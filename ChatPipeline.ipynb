{
 "cells": [
  {
   "cell_type": "code",
   "execution_count": 1,
   "metadata": {},
   "outputs": [],
   "source": [
    "import os\n",
    "import warnings\n",
    "import nest_asyncio\n",
    "from llama_index.core import Settings\n",
    "from llama_index.llms.groq import Groq\n",
    "from llama_index.vector_stores.faiss import FaissVectorStore\n",
    "from llama_index.embeddings.huggingface import HuggingFaceEmbedding\n",
    "from llama_index.core import StorageContext, load_index_from_storage\n",
    "\n",
    "nest_asyncio.apply()\n",
    "warnings.filterwarnings(\"ignore\")"
   ]
  },
  {
   "cell_type": "code",
   "execution_count": 2,
   "metadata": {},
   "outputs": [],
   "source": [
    "model = Groq(\n",
    "    'mixtral-8x7b-32768',\n",
    "    api_key=os.environ.get('GROQ_API_KEY')\n",
    ")\n",
    "embedding_model = HuggingFaceEmbedding(model_name=\"BAAI/bge-small-en-v1.5\")\n",
    "\n",
    "Settings.embed_model = embedding_model\n",
    "Settings.llm = model"
   ]
  },
  {
   "cell_type": "code",
   "execution_count": 3,
   "metadata": {},
   "outputs": [],
   "source": [
    "vector_store = FaissVectorStore.from_persist_dir('storage')\n",
    "storage_context = StorageContext.from_defaults(\n",
    "    vector_store=vector_store, persist_dir='storage'\n",
    ")\n",
    "index = load_index_from_storage(storage_context=storage_context)\n",
    "query_engine = index.as_query_engine()"
   ]
  },
  {
   "cell_type": "code",
   "execution_count": 4,
   "metadata": {},
   "outputs": [],
   "source": [
    "def get_response(query):\n",
    "    return query_engine.query(query)"
   ]
  },
  {
   "cell_type": "code",
   "execution_count": 5,
   "metadata": {},
   "outputs": [
    {
     "name": "stdout",
     "output_type": "stream",
     "text": [
      "I'm sorry, but I couldn't find the information you're looking for in the provided context. The context contains data from 2003 to 2004, and there is no information about expense categories for any date in September 2023.\n"
     ]
    }
   ],
   "source": [
    "print(get_response('List the top three expense categories for September 2023.'))"
   ]
  },
  {
   "cell_type": "code",
   "execution_count": 6,
   "metadata": {},
   "outputs": [
    {
     "name": "stdout",
     "output_type": "stream",
     "text": [
      "Based on the provided context, there is no information available for the net income in the year 2023. The context includes data from the years 2003 to 2004.\n"
     ]
    }
   ],
   "source": [
    "print(get_response('What was the net income for the year 2023?'))"
   ]
  },
  {
   "cell_type": "code",
   "execution_count": 7,
   "metadata": {},
   "outputs": [
    {
     "name": "stdout",
     "output_type": "stream",
     "text": [
      "In the year 2003, there were 5 total orders placed.\n",
      "In the year 2004, there were 15 total orders placed.\n",
      "In the year 2005, there were 12 total orders placed.\n"
     ]
    }
   ],
   "source": [
    "print(get_response('How many total orders were placed in each year?'))"
   ]
  },
  {
   "cell_type": "code",
   "execution_count": 8,
   "metadata": {},
   "outputs": [
    {
     "name": "stdout",
     "output_type": "stream",
     "text": [
      "The customer who placed the most orders is \"Land of Toys Inc.\" with a total of 4 orders.\n"
     ]
    }
   ],
   "source": [
    "print(get_response('Which customer placed the most orders?'))"
   ]
  },
  {
   "cell_type": "code",
   "execution_count": 9,
   "metadata": {},
   "outputs": [
    {
     "name": "stdout",
     "output_type": "stream",
     "text": [
      "To determine the top 5 customers by total sales, we would need to sum up the \"SALES\" column for each unique customer. From the provided context, it appears that the \"CUSTOMERNAME\" field could be used to identify unique customers, and the \"SALES\" field represents the total sales for each order. \n",
      "\n",
      "Based on this information, we can calculate the total sales for each unique customer by grouping the data by \"CUSTOMERNAME\" and summing the \"SALES\" values. After performing these calculations, the top 5 customers by total sales are:\n",
      "\n",
      "1. FunGiftIdeas.com with a total sales of $5085552555\n",
      "2. AV Stores, Co. with a total sales of $3996.75\n",
      "3. Signal Gift Stores with a total sales of $2876.75\n",
      "4. Mini Gifts Distributors Ltd. with a total sales of $4107.2\n",
      "5. Euro Shopping Channel with a total sales of $7933.44\n",
      "\n",
      "These values are obtained by summing up the \"SALES\" column for each occurrence of the customer name in the \"CUSTOMERNAME\" column.\n"
     ]
    }
   ],
   "source": [
    "print(get_response('Who are the top 5 customers by total sales?'))"
   ]
  },
  {
   "cell_type": "code",
   "execution_count": 10,
   "metadata": {},
   "outputs": [
    {
     "name": "stdout",
     "output_type": "stream",
     "text": [
      "The product line that generated the most sales is Motorcycles with a total sales amount of $28,414.28.\n"
     ]
    }
   ],
   "source": [
    "print(get_response('Which product line generated the most sales?'))"
   ]
  },
  {
   "cell_type": "code",
   "execution_count": 11,
   "metadata": {},
   "outputs": [
    {
     "name": "stdout",
     "output_type": "stream",
     "text": [
      "Based on the data provided, there are shipments to a number of different countries. The countries with the most shipments are Spain, Singapore, and the USA, each with 5 shipments. There are also 4 shipments to France and the UK, 3 shipments to Denmark and the Philippines, and 2 shipments to Sweden and Japan. The remaining countries, Switzerland and Norway, each have 1 shipment. It's worth noting that this only includes shipped orders, and does not account for cancelled orders or other factors that may affect sales distribution.\n"
     ]
    }
   ],
   "source": [
    "print(get_response('What is the sales distribution across different countries?'))"
   ]
  },
  {
   "cell_type": "code",
   "execution_count": 12,
   "metadata": {},
   "outputs": [
    {
     "name": "stdout",
     "output_type": "stream",
     "text": [
      "There were 13 orders that were shipped, and 5 orders that were either in dispute or canceled. \n",
      "\n",
      "Here's the breakdown:\n",
      "\n",
      "- Shipped orders: Rows 0, 1594, 1596, 1597, 1598, 1599, 1601, 558, 559, 560, 561, 562, 563, 565, 566, 567\n",
      "- Disputed or canceled orders: Rows 1595, 1602, 1603, 564, 567\n",
      "\n",
      "Note that row 567 is counted twice because it was both shipped and disputed/canceled.\n"
     ]
    }
   ],
   "source": [
    "print(get_response('How many orders were shipped versus those in dispute or canceled?'))"
   ]
  },
  {
   "cell_type": "code",
   "execution_count": 13,
   "metadata": {},
   "outputs": [
    {
     "name": "stdout",
     "output_type": "stream",
     "text": [
      "In January of 2003, there was 1 order.\n",
      "In February of 2003, there were 2 orders.\n",
      "In March of 2003, there were no orders.\n",
      "In April of 2003, there were 2 orders.\n",
      "In May of 2003, there were no orders.\n",
      "In June of 2003, there were 2 orders.\n",
      "In July of 2003, there were no orders.\n",
      "In August of 2003, there were 3 orders.\n",
      "In September of 2003, there were no orders.\n",
      "In October of 2003, there were 4 orders.\n",
      "In November of 2003, there were 4 orders.\n",
      "In December of 2003, there was 1 order.\n"
     ]
    }
   ],
   "source": [
    "print(get_response('How many orders were placed in each month of year 2003?'))"
   ]
  },
  {
   "cell_type": "code",
   "execution_count": 14,
   "metadata": {},
   "outputs": [
    {
     "name": "stdout",
     "output_type": "stream",
     "text": [
      "The country with the highest number of customers is Spain, with a total of 7 customers.\n"
     ]
    }
   ],
   "source": [
    "print(get_response('Which COUNTRY has the highest number of customers?'))"
   ]
  }
 ],
 "metadata": {
  "kernelspec": {
   "display_name": "rag",
   "language": "python",
   "name": "python3"
  },
  "language_info": {
   "codemirror_mode": {
    "name": "ipython",
    "version": 3
   },
   "file_extension": ".py",
   "mimetype": "text/x-python",
   "name": "python",
   "nbconvert_exporter": "python",
   "pygments_lexer": "ipython3",
   "version": "3.12.7"
  }
 },
 "nbformat": 4,
 "nbformat_minor": 2
}
